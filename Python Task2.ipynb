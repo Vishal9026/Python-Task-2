{
 "cells": [
  {
   "cell_type": "code",
   "execution_count": 75,
   "id": "4bd8ba62-2c8d-4f91-be8e-4b4ecca11661",
   "metadata": {},
   "outputs": [
    {
     "name": "stdin",
     "output_type": "stream",
     "text": [
      "enter your password: AnjaliGond525@$_\n"
     ]
    }
   ],
   "source": [
    "# ANSWER-1)\n",
    "# l,u,p,d = 0 , 0 , 0 , 0\n",
    "s=str(input('enter your password:'))\n",
    "def check_password1(s):\n",
    "    l,u,p,d = 0 , 0 , 0 , 0\n",
    "    if (len(s)>=10):\n",
    "        for i in s:\n",
    "            if (i.islower()):\n",
    "                l =l + 1\n",
    "            if (i.isupper()):\n",
    "                u  =u + 1\n",
    "            if (i.isdigit()):\n",
    "                d =d + 1\n",
    "            if (i=='$' or i=='@'or i=='_'):\n",
    "                p =p + 1\n",
    "    if (l>=2 and u>=2 and d>=1 and p>=3 and l+u+p+d==len(s)):\n",
    "        print('valid password')\n",
    "    else:\n",
    "        print('invalid password')"
   ]
  },
  {
   "cell_type": "code",
   "execution_count": 70,
   "id": "dbebb474-360a-4079-bb5f-66f8875d204f",
   "metadata": {},
   "outputs": [
    {
     "name": "stdout",
     "output_type": "stream",
     "text": [
      "valid password\n"
     ]
    }
   ],
   "source": [
    "check_password1(s)"
   ]
  },
  {
   "cell_type": "code",
   "execution_count": 72,
   "id": "a21335d2-e9f6-43bb-aa3e-0525435b4aae",
   "metadata": {},
   "outputs": [
    {
     "name": "stdout",
     "output_type": "stream",
     "text": [
      "invalid password\n"
     ]
    }
   ],
   "source": [
    "check_password1(s)"
   ]
  },
  {
   "cell_type": "code",
   "execution_count": 74,
   "id": "749378ce-f00e-414f-b384-fc1240083ecf",
   "metadata": {},
   "outputs": [
    {
     "name": "stdout",
     "output_type": "stream",
     "text": [
      "invalid password\n"
     ]
    }
   ],
   "source": [
    "check_password1(s)"
   ]
  },
  {
   "cell_type": "code",
   "execution_count": 76,
   "id": "6ac964d5-c3c6-4a88-89d2-13ee3152048a",
   "metadata": {},
   "outputs": [
    {
     "name": "stdout",
     "output_type": "stream",
     "text": [
      "valid password\n"
     ]
    }
   ],
   "source": [
    "check_password1(s)"
   ]
  },
  {
   "cell_type": "code",
   "execution_count": 13,
   "id": "98e42d9d-30fe-409c-9efc-10061b641095",
   "metadata": {},
   "outputs": [
    {
     "data": {
      "text/plain": [
       "True"
      ]
     },
     "execution_count": 13,
     "metadata": {},
     "output_type": "execute_result"
    }
   ],
   "source": [
    "# ANSWER-2)\n",
    "p = lambda x,y : x[0] == y\n",
    "p('Vishal','V')"
   ]
  },
  {
   "cell_type": "code",
   "execution_count": 14,
   "id": "d6c5d9fd-734e-43a3-8295-34c7774513a3",
   "metadata": {},
   "outputs": [
    {
     "data": {
      "text/plain": [
       "True"
      ]
     },
     "execution_count": 14,
     "metadata": {},
     "output_type": "execute_result"
    }
   ],
   "source": [
    "n = lambda x:x.isnumeric()\n",
    "n('121')"
   ]
  },
  {
   "cell_type": "code",
   "execution_count": 16,
   "id": "495dcb68-d2ab-4f37-b3d2-07b87d5d98e0",
   "metadata": {},
   "outputs": [],
   "source": [
    "nlist = [(\"mango\",99),(\"orange\",80), (\"grapes\", 1000)]\n",
    "nlist.sort(key = lambda x: x[1])"
   ]
  },
  {
   "cell_type": "code",
   "execution_count": 17,
   "id": "6f4af483-cb94-4a58-9403-5d505008a2dc",
   "metadata": {},
   "outputs": [
    {
     "data": {
      "text/plain": [
       "[('orange', 80), ('mango', 99), ('grapes', 1000)]"
      ]
     },
     "execution_count": 17,
     "metadata": {},
     "output_type": "execute_result"
    }
   ],
   "source": [
    "nlist"
   ]
  },
  {
   "cell_type": "code",
   "execution_count": 34,
   "id": "68e9b32c-0f49-4b54-b81c-4e2c408bc7f5",
   "metadata": {},
   "outputs": [
    {
     "data": {
      "text/plain": [
       "[1, 4, 9, 16, 25, 36, 49, 64, 81, 100]"
      ]
     },
     "execution_count": 34,
     "metadata": {},
     "output_type": "execute_result"
    }
   ],
   "source": [
    "[i*i for i in range(1, 10+1)]"
   ]
  },
  {
   "cell_type": "code",
   "execution_count": 35,
   "id": "5a285320-a02d-4dfd-9752-0983e63afe11",
   "metadata": {},
   "outputs": [
    {
     "data": {
      "text/plain": [
       "[1, 8, 27, 64, 125, 216, 343, 512, 729, 1000]"
      ]
     },
     "execution_count": 35,
     "metadata": {},
     "output_type": "execute_result"
    }
   ],
   "source": [
    "[i*i*i for i in range(1, 10+1)]"
   ]
  },
  {
   "cell_type": "code",
   "execution_count": 6,
   "id": "c2e67c7c-cb3b-4d2b-84c5-006ef021aed5",
   "metadata": {},
   "outputs": [
    {
     "name": "stdout",
     "output_type": "stream",
     "text": [
      "True\n"
     ]
    }
   ],
   "source": [
    "print((lambda x: x%2==0)(10))"
   ]
  },
  {
   "cell_type": "code",
   "execution_count": 3,
   "id": "ce006ce7-5048-450a-b265-c0812d9194ff",
   "metadata": {},
   "outputs": [
    {
     "data": {
      "text/plain": [
       "[1, 3, 5, 7, 9]"
      ]
     },
     "execution_count": 3,
     "metadata": {},
     "output_type": "execute_result"
    }
   ],
   "source": [
    "l3 = [1,2,3,4,5,6,7,8,9,10]\n",
    "[i for i in l3 if i%2 != 0]"
   ]
  },
  {
   "cell_type": "code",
   "execution_count": 10,
   "id": "fcd6e2d8-3019-415f-8dbb-a070a3166520",
   "metadata": {},
   "outputs": [
    {
     "name": "stdout",
     "output_type": "stream",
     "text": [
      "[-1, -2, -3, -4, -5]\n",
      "[1, 2, 3, 4, 5, 6, 0]\n"
     ]
    }
   ],
   "source": [
    "l5 = [1,2,3,4,5,6,-1,-2,-3,-4,-5,0]\n",
    "print([i for i in l5 if i <0])\n",
    "print([i for i in l5 if i >=0])"
   ]
  }
 ],
 "metadata": {
  "kernelspec": {
   "display_name": "Python 3 (ipykernel)",
   "language": "python",
   "name": "python3"
  },
  "language_info": {
   "codemirror_mode": {
    "name": "ipython",
    "version": 3
   },
   "file_extension": ".py",
   "mimetype": "text/x-python",
   "name": "python",
   "nbconvert_exporter": "python",
   "pygments_lexer": "ipython3",
   "version": "3.10.8"
  }
 },
 "nbformat": 4,
 "nbformat_minor": 5
}
